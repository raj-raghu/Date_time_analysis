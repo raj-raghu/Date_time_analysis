{
 "cells": [
  {
   "cell_type": "markdown",
   "id": "e1ef4542",
   "metadata": {},
   "source": [
    "# Datetime"
   ]
  },
  {
   "cell_type": "markdown",
   "id": "40a8b7c0",
   "metadata": {},
   "source": [
    "If i want to deal with date and time related issues we must use **datetime** Module or Library.\\\n",
    "In Python, date and time are not a data type of their own, but a module named datetime can be imported to work with the date as well as time.\\\n",
    "Date Syntax:-**datetime.date(year, month, day)**\\\n",
    "By Default Date format:- yyyy-m-dd\\\n",
    "Time Syntax:-**datetime.time(hour=0, minute=0, second=0, microsecond=0, tzinfo=None, *, fold=0)**"
   ]
  },
  {
   "cell_type": "code",
   "execution_count": 102,
   "id": "1601aac4",
   "metadata": {},
   "outputs": [],
   "source": [
    "import datetime"
   ]
  },
  {
   "cell_type": "code",
   "execution_count": 11,
   "id": "edb62f54",
   "metadata": {},
   "outputs": [
    {
     "name": "stdout",
     "output_type": "stream",
     "text": [
      "['MAXYEAR', 'MINYEAR', '__all__', '__builtins__', '__cached__', '__doc__', '__file__', '__loader__', '__name__', '__package__', '__spec__', 'date', 'datetime', 'datetime_CAPI', 'sys', 'time', 'timedelta', 'timezone', 'tzinfo']\n"
     ]
    }
   ],
   "source": [
    "print(dir(datetime)) # All the functions in the date time Module."
   ]
  },
  {
   "cell_type": "markdown",
   "id": "7d6b94e3",
   "metadata": {},
   "source": [
    "**'date', 'datetime', 'time', 'timedelta',** ('timezone', 'tzinfo''MAXYEAR', 'MINYEAR', 'datetime_CAPI', 'sys')"
   ]
  },
  {
   "cell_type": "code",
   "execution_count": 103,
   "id": "d7e1eb54",
   "metadata": {},
   "outputs": [
    {
     "data": {
      "text/plain": [
       "datetime.date(2023, 3, 31)"
      ]
     },
     "execution_count": 103,
     "metadata": {},
     "output_type": "execute_result"
    }
   ],
   "source": [
    "datetime.date.today()"
   ]
  },
  {
   "cell_type": "code",
   "execution_count": 104,
   "id": "dc429517",
   "metadata": {},
   "outputs": [
    {
     "name": "stdout",
     "output_type": "stream",
     "text": [
      "2023-03-31\n"
     ]
    }
   ],
   "source": [
    "# I want to print today date\n",
    "today_date=datetime.date.today()\n",
    "print(today_date)"
   ]
  },
  {
   "cell_type": "code",
   "execution_count": 107,
   "id": "4e5b849a",
   "metadata": {},
   "outputs": [
    {
     "data": {
      "text/plain": [
       "datetime.datetime(2023, 3, 31, 12, 51, 22, 622120)"
      ]
     },
     "execution_count": 107,
     "metadata": {},
     "output_type": "execute_result"
    }
   ],
   "source": [
    "# I want to print today date with time\n",
    "date_time=datetime.datetime.today()\n",
    "date_time"
   ]
  },
  {
   "cell_type": "code",
   "execution_count": 108,
   "id": "5f4d91ab",
   "metadata": {},
   "outputs": [
    {
     "name": "stdout",
     "output_type": "stream",
     "text": [
      "2023-03-31 12:51:35.757009\n"
     ]
    }
   ],
   "source": [
    "# I want to print today date with time\n",
    "date_time=datetime.datetime.today()\n",
    "print(date_time)"
   ]
  },
  {
   "cell_type": "code",
   "execution_count": 36,
   "id": "0c6b0504",
   "metadata": {},
   "outputs": [],
   "source": [
    "# Always writing datetime datetime i don't like it. Simply i import date module from datetime module.\n",
    "from datetime import date\n",
    "# here all date related functions in this"
   ]
  },
  {
   "cell_type": "markdown",
   "id": "5248d5fe",
   "metadata": {},
   "source": [
    "## Date"
   ]
  },
  {
   "cell_type": "code",
   "execution_count": 65,
   "id": "359ad7d6",
   "metadata": {},
   "outputs": [
    {
     "ename": "TypeError",
     "evalue": "function missing required argument 'year' (pos 1)",
     "output_type": "error",
     "traceback": [
      "\u001b[1;31m---------------------------------------------------------------------------\u001b[0m",
      "\u001b[1;31mTypeError\u001b[0m                                 Traceback (most recent call last)",
      "\u001b[1;32m~\\AppData\\Local\\Temp\\ipykernel_13868\\2647489711.py\u001b[0m in \u001b[0;36m<module>\u001b[1;34m\u001b[0m\n\u001b[1;32m----> 1\u001b[1;33m \u001b[0mdate\u001b[0m\u001b[1;33m(\u001b[0m\u001b[1;33m)\u001b[0m\u001b[1;33m\u001b[0m\u001b[1;33m\u001b[0m\u001b[0m\n\u001b[0m",
      "\u001b[1;31mTypeError\u001b[0m: function missing required argument 'year' (pos 1)"
     ]
    }
   ],
   "source": [
    "date()"
   ]
  },
  {
   "cell_type": "code",
   "execution_count": 34,
   "id": "285bb214",
   "metadata": {},
   "outputs": [
    {
     "name": "stdout",
     "output_type": "stream",
     "text": [
      "2023-03-31\n"
     ]
    }
   ],
   "source": [
    "# Now see Today date simply\n",
    "dt=date.today(); print(dt)"
   ]
  },
  {
   "cell_type": "code",
   "execution_count": 42,
   "id": "920cd4ef",
   "metadata": {},
   "outputs": [
    {
     "name": "stdout",
     "output_type": "stream",
     "text": [
      "Independence_day 1947-08-15\n"
     ]
    }
   ],
   "source": [
    "# If i want to enter a particular hard coded date like date of birthdate then we use data function and follow the syntax.\n",
    "independence_day=date(1947,8,15) # (yyyy,m,dd)\n",
    "print(\"Independence_day\",independence_day)"
   ]
  },
  {
   "cell_type": "code",
   "execution_count": 45,
   "id": "30abb582",
   "metadata": {},
   "outputs": [
    {
     "name": "stdout",
     "output_type": "stream",
     "text": [
      "year 2023\n",
      "month 3\n",
      "day 31\n"
     ]
    }
   ],
   "source": [
    "# I want to extract year, month, day from today date for particular date.\n",
    "y=dt.year;m=dt.month;d=dt.day\n",
    "print(\"year\",y)\n",
    "print(\"month\",m)\n",
    "print(\"day\",d)"
   ]
  },
  {
   "cell_type": "code",
   "execution_count": 46,
   "id": "0c1d46f1",
   "metadata": {},
   "outputs": [
    {
     "name": "stdout",
     "output_type": "stream",
     "text": [
      "year 1947\n",
      "month 8\n",
      "day 15\n"
     ]
    }
   ],
   "source": [
    "y=independence_day.year;m=independence_day.month;d=independence_day.day\n",
    "print(\"year\",y)\n",
    "print(\"month\",m)\n",
    "print(\"day\",d)"
   ]
  },
  {
   "cell_type": "markdown",
   "id": "acfae741",
   "metadata": {},
   "source": [
    "## Time"
   ]
  },
  {
   "cell_type": "code",
   "execution_count": 82,
   "id": "47a089fd",
   "metadata": {},
   "outputs": [],
   "source": [
    "# here all time related functions in this\n",
    "from datetime import time"
   ]
  },
  {
   "cell_type": "code",
   "execution_count": 67,
   "id": "bd955034",
   "metadata": {},
   "outputs": [
    {
     "data": {
      "text/plain": [
       "datetime.time(0, 0)"
      ]
     },
     "execution_count": 67,
     "metadata": {},
     "output_type": "execute_result"
    }
   ],
   "source": [
    "time() # We don't have direct time fetching function in time module. but we can get time by using timestame later we will see."
   ]
  },
  {
   "cell_type": "code",
   "execution_count": 94,
   "id": "646a98bd",
   "metadata": {},
   "outputs": [
    {
     "name": "stdout",
     "output_type": "stream",
     "text": [
      "birth_time 10:59:08.002534\n",
      "hour 10\n",
      "minute 59\n",
      "second 8\n",
      "microsecond 2534\n"
     ]
    }
   ],
   "source": [
    "# Now we can enter manually\n",
    "tim=time(10,59,8,2534)# format(hh,mm,ss)\n",
    "print(\"birth_time\",tim)\n",
    "print(\"hour\",tim.hour)\n",
    "print(\"minute\",tim.minute)\n",
    "print(\"second\",tim.second)\n",
    "print(\"microsecond\",tim.microsecond)"
   ]
  },
  {
   "cell_type": "markdown",
   "id": "c9a5e40b",
   "metadata": {},
   "source": [
    "### Date time combination"
   ]
  },
  {
   "cell_type": "code",
   "execution_count": 109,
   "id": "08fbd8ef",
   "metadata": {},
   "outputs": [],
   "source": [
    "from datetime import datetime "
   ]
  },
  {
   "cell_type": "code",
   "execution_count": 126,
   "id": "c4c85c27",
   "metadata": {},
   "outputs": [
    {
     "name": "stdout",
     "output_type": "stream",
     "text": [
      "date_today 2023-03-31 13:01:43.737887\n",
      "date_now 2023-03-31 13:01:43.737886\n"
     ]
    },
    {
     "data": {
      "text/plain": [
       "datetime.datetime(2023, 3, 31, 13, 1, 43, 737886)"
      ]
     },
     "execution_count": 126,
     "metadata": {},
     "output_type": "execute_result"
    }
   ],
   "source": [
    "# Everything return date and time\n",
    "date_today=datetime.today()\n",
    "date_now=datetime.now()\n",
    "dt=date_now\n",
    "dt=date_time\n",
    "dt=date_today\n",
    "print(\"date_today\",date_today)\n",
    "date_today\n",
    "\n",
    "print(\"date_now\",date_now)\n",
    "date_now"
   ]
  },
  {
   "cell_type": "code",
   "execution_count": 130,
   "id": "4be436ba",
   "metadata": {},
   "outputs": [
    {
     "name": "stdout",
     "output_type": "stream",
     "text": [
      "2020-07-22 00:00:00\n",
      "2020-07-22 08:52:00\n"
     ]
    }
   ],
   "source": [
    "# Manual Entry date with time\n",
    "# date of bith with time\n",
    "dt=datetime(2020,7,22);print(dt)\n",
    "dt1=datetime(2020,7,22,8,52,0);print(dt1)"
   ]
  },
  {
   "cell_type": "code",
   "execution_count": 169,
   "id": "7ff2fd40",
   "metadata": {},
   "outputs": [
    {
     "name": "stdout",
     "output_type": "stream",
     "text": [
      "Date 2020-07-22 year 2020 month 7 day 22\n",
      "Time 08:52:00 Hour 8 Minute 52 Second 0 MicroSecond 0\n",
      "Timestamp 1595388120.0\n",
      "Time Zone 2020-07-22 08:52:00+05:30\n",
      "ctime Wed Jul 22 08:52:00 2020\n",
      "timetuple time.struct_time(tm_year=2020, tm_mon=7, tm_mday=22, tm_hour=8, tm_min=52, tm_sec=0, tm_wday=2, tm_yday=204, tm_isdst=-1)\n",
      "Now 2023-03-31 15:47:34.214477 Min date time 0001-01-01 00:00:00 Max date time 9999-12-31 23:59:59.999999\n"
     ]
    }
   ],
   "source": [
    "print(\"Date\",dt1.date(),end=' ');print(\"year\",dt1.year,end=\" \");print(\"month\",dt1.month,end=\" \");print(\"day\",dt1.day)\n",
    "print(\"Time\",dt1.time(),end=\" \");print(\"Hour\",dt1.hour,end=\" \");print(\"Minute\",dt1.minute,end=\" \");\n",
    "print(\"Second\",dt1.second,end=\" \");print(\"MicroSecond\",dt1.microsecond)\n",
    "print(\"Timestamp\",dt1.timestamp())\n",
    "print(\"Time Zone\",dt1.astimezone())\n",
    "print(\"ctime\",dt1.ctime())\n",
    "print(\"timetuple\",dt1.timetuple())\n",
    "\n",
    "print(\"Now\",dt1.now(),end=\" \")\n",
    "print(\"Min date time\",dt1.min,end=\" \")\n",
    "print(\"Max date time\",dt1.max)\n"
   ]
  },
  {
   "cell_type": "code",
   "execution_count": 224,
   "id": "d64831ad",
   "metadata": {},
   "outputs": [
    {
     "name": "stdout",
     "output_type": "stream",
     "text": [
      "2023-03-31 16:15:37.703976\n"
     ]
    }
   ],
   "source": [
    "# previously we faced issue in time function we don't have direct time fetching.if you want time from datetime then\n"
   ]
  },
  {
   "cell_type": "code",
   "execution_count": 181,
   "id": "b7ae2bd8",
   "metadata": {},
   "outputs": [
    {
     "name": "stdout",
     "output_type": "stream",
     "text": [
      "Timestamp 1595388120.0\n"
     ]
    }
   ],
   "source": [
    "print(\"Timestamp\",dt1.timestamp()) # It return date into seconds."
   ]
  },
  {
   "cell_type": "markdown",
   "id": "070779d2",
   "metadata": {},
   "source": [
    "Time Stamp means Seconds===> 1 day=24 hours, 1 hr =60 min, 1 min= 60 sec. how many seconds for one day?\\\n",
    "sec_day=24 x 60 x 60\\\n",
    "sec_day=86400 Seconds."
   ]
  },
  {
   "cell_type": "code",
   "execution_count": 183,
   "id": "3c2db4a2",
   "metadata": {},
   "outputs": [],
   "source": [
    "from datetime import date"
   ]
  },
  {
   "cell_type": "code",
   "execution_count": 186,
   "id": "6bd5ccc2",
   "metadata": {},
   "outputs": [
    {
     "name": "stdout",
     "output_type": "stream",
     "text": [
      "2020-07-22\n"
     ]
    }
   ],
   "source": [
    "timestamp=date.fromtimestamp(1595388120)\n",
    "print(timestamp)\n",
    "# It is matching with dt1 date of birth time date."
   ]
  },
  {
   "cell_type": "code",
   "execution_count": 188,
   "id": "620ff245",
   "metadata": {},
   "outputs": [
    {
     "name": "stdout",
     "output_type": "stream",
     "text": [
      "1970-01-01\n"
     ]
    }
   ],
   "source": [
    "timestamp=date.fromtimestamp(1)\n",
    "print(timestamp) # By default it returns 1970-01-01. if i want next day add one in seconds i.e., 86400"
   ]
  },
  {
   "cell_type": "code",
   "execution_count": 200,
   "id": "6625c3a9",
   "metadata": {},
   "outputs": [
    {
     "name": "stdout",
     "output_type": "stream",
     "text": [
      "1970-01-02\n"
     ]
    }
   ],
   "source": [
    "timestamp=date.fromtimestamp(86400)\n",
    "print(timestamp) # Yes exactly working. Lets cross verify"
   ]
  },
  {
   "cell_type": "code",
   "execution_count": 201,
   "id": "63aa3486",
   "metadata": {},
   "outputs": [
    {
     "name": "stdout",
     "output_type": "stream",
     "text": [
      "1970-01-02\n"
     ]
    }
   ],
   "source": [
    "# Lets check reduce 60 sec\n",
    "timestamp=date.fromtimestamp(86340)\n",
    "print(timestamp) # It is giving same answer! why because we are +5:30 ahead of GTC time reduce 5hr :30 min in sec."
   ]
  },
  {
   "cell_type": "code",
   "execution_count": 199,
   "id": "2027e40a",
   "metadata": {},
   "outputs": [
    {
     "data": {
      "text/plain": [
       "19800.0"
      ]
     },
     "execution_count": 199,
     "metadata": {},
     "output_type": "execute_result"
    }
   ],
   "source": [
    "5*3600+0.5*3600"
   ]
  },
  {
   "cell_type": "code",
   "execution_count": 206,
   "id": "916a9727",
   "metadata": {
    "scrolled": true
   },
   "outputs": [
    {
     "data": {
      "text/plain": [
       "66600"
      ]
     },
     "execution_count": 206,
     "metadata": {},
     "output_type": "execute_result"
    }
   ],
   "source": [
    "(86400-19800)"
   ]
  },
  {
   "cell_type": "code",
   "execution_count": 208,
   "id": "cda230af",
   "metadata": {},
   "outputs": [
    {
     "name": "stdout",
     "output_type": "stream",
     "text": [
      "1970-01-02\n"
     ]
    }
   ],
   "source": [
    "# Lets check reduce 5hr:30 mins in sec\n",
    "timestamp=date.fromtimestamp(66600)\n",
    "print(timestamp)"
   ]
  },
  {
   "cell_type": "code",
   "execution_count": 209,
   "id": "3b5682eb",
   "metadata": {
    "scrolled": false
   },
   "outputs": [
    {
     "name": "stdout",
     "output_type": "stream",
     "text": [
      "1970-01-01\n"
     ]
    }
   ],
   "source": [
    "timestamp=date.fromtimestamp(66599)\n",
    "print(timestamp) # Yes it is working"
   ]
  },
  {
   "cell_type": "code",
   "execution_count": 213,
   "id": "799b7dc4",
   "metadata": {},
   "outputs": [
    {
     "data": {
      "text/plain": [
       "153000"
      ]
     },
     "execution_count": 213,
     "metadata": {},
     "output_type": "execute_result"
    }
   ],
   "source": [
    "(66600+86400)"
   ]
  },
  {
   "cell_type": "code",
   "execution_count": 214,
   "id": "cb7c1581",
   "metadata": {},
   "outputs": [
    {
     "name": "stdout",
     "output_type": "stream",
     "text": [
      "1970-01-03\n"
     ]
    }
   ],
   "source": [
    "timestamp=date.fromtimestamp(153000)\n",
    "print(timestamp) # Yes it is working"
   ]
  },
  {
   "cell_type": "code",
   "execution_count": 215,
   "id": "6ad7cbcb",
   "metadata": {
    "scrolled": true
   },
   "outputs": [
    {
     "name": "stdout",
     "output_type": "stream",
     "text": [
      "1970-01-02\n"
     ]
    }
   ],
   "source": [
    "timestamp=date.fromtimestamp(153000-1)\n",
    "print(timestamp) # Yes it is working"
   ]
  },
  {
   "cell_type": "markdown",
   "id": "20088fb1",
   "metadata": {},
   "source": [
    "**Now we will see difference between two dates and times**"
   ]
  },
  {
   "cell_type": "code",
   "execution_count": 235,
   "id": "35d37522",
   "metadata": {},
   "outputs": [
    {
     "name": "stdout",
     "output_type": "stream",
     "text": [
      "365 days, 0:00:00\n"
     ]
    },
    {
     "data": {
      "text/plain": [
       "datetime.timedelta(days=365)"
      ]
     },
     "execution_count": 235,
     "metadata": {},
     "output_type": "execute_result"
    }
   ],
   "source": [
    "# Difference between 2 dates\n",
    "from datetime import datetime,date\n",
    "d1=date(2023,3,1)\n",
    "d2=date(2022,3,1)\n",
    "print(d1-d2)\n",
    "d1-d2"
   ]
  },
  {
   "cell_type": "code",
   "execution_count": 236,
   "id": "cda7e096",
   "metadata": {},
   "outputs": [
    {
     "name": "stdout",
     "output_type": "stream",
     "text": [
      "365 days, 1:00:00\n"
     ]
    },
    {
     "data": {
      "text/plain": [
       "datetime.timedelta(days=365, seconds=3600)"
      ]
     },
     "execution_count": 236,
     "metadata": {},
     "output_type": "execute_result"
    }
   ],
   "source": [
    "# Difference between 2 dates with time interval\n",
    "from datetime import datetime,time\n",
    "dt1=datetime(2023,3,1,18,30,0)\n",
    "dt2=datetime(2022,3,1,17,30,0)\n",
    "print(dt1-dt2)\n",
    "dt1-dt2"
   ]
  },
  {
   "cell_type": "markdown",
   "id": "e1459b7f",
   "metadata": {},
   "source": [
    "**If i want difference weeks and days we use timedeltafunctions**"
   ]
  },
  {
   "cell_type": "code",
   "execution_count": 238,
   "id": "9c0ba79f",
   "metadata": {},
   "outputs": [
    {
     "name": "stdout",
     "output_type": "stream",
     "text": [
      "14 days, 0:00:00\n"
     ]
    }
   ],
   "source": [
    "from datetime import timedelta\n",
    "wd1=timedelta(weeks=2,days=5,hours=1,seconds=30)\n",
    "wd2=timedelta(days=5,hours=1,seconds=30)\n",
    "print(wd1-wd2)"
   ]
  },
  {
   "cell_type": "code",
   "execution_count": 240,
   "id": "b53a9d2b",
   "metadata": {},
   "outputs": [
    {
     "data": {
      "text/plain": [
       "608433.0"
      ]
     },
     "execution_count": 240,
     "metadata": {},
     "output_type": "execute_result"
    }
   ],
   "source": [
    "# Converting days time into seconds.\n",
    "t6=timedelta(days=7,hours=1,seconds=33)\n",
    "t6.total_seconds()"
   ]
  },
  {
   "cell_type": "code",
   "execution_count": 1,
   "id": "fa2a3345",
   "metadata": {},
   "outputs": [
    {
     "data": {
      "text/plain": [
       "608433"
      ]
     },
     "execution_count": 1,
     "metadata": {},
     "output_type": "execute_result"
    }
   ],
   "source": [
    "7*86400+3600+33"
   ]
  },
  {
   "cell_type": "code",
   "execution_count": 4,
   "id": "cfe36c2a",
   "metadata": {},
   "outputs": [
    {
     "name": "stdout",
     "output_type": "stream",
     "text": [
      "1970-01-08\n"
     ]
    }
   ],
   "source": [
    "# If i want to convert seconds into date by using timestamp as we seen in top.\n",
    "from datetime import date\n",
    "d=date.fromtimestamp(608433)\n",
    "print(d)"
   ]
  },
  {
   "cell_type": "markdown",
   "id": "2dec586b",
   "metadata": {},
   "source": [
    "**But i don't like the numbers i want in month names like jan,feb or July, Auguest then we must format the date and time**"
   ]
  },
  {
   "attachments": {
    "image-2.png": {
     "image/png": "[encoded data removed]"
    }
   },
   "cell_type": "markdown",
   "id": "7efbc494",
   "metadata": {},
   "source": [
    "## Date and Time Formatting.\n",
    "If we want to format the time and date we must have to understand the two functions.\n",
    "1. strftime( )===> System time to user required format (For formatting date objects into readable strings.)\n",
    "2. strptime( )===> User format to system time format.\n",
    "\t\t\t\n",
    "![image-2.png](attachment:image-2.png)"
   ]
  },
  {
   "cell_type": "markdown",
   "id": "0f829d4a",
   "metadata": {},
   "source": [
    "### Converting System time format to user define format then we use \n",
    "#### strftime() function\n",
    "_s==>System\\\n",
    "_u==>User"
   ]
  },
  {
   "cell_type": "code",
   "execution_count": 2,
   "id": "5f1c03b6",
   "metadata": {},
   "outputs": [
    {
     "name": "stdout",
     "output_type": "stream",
     "text": [
      "2023-04-03 11:43:06.117056\n"
     ]
    }
   ],
   "source": [
    "# What is current Date and time\n",
    "from datetime import datetime\n",
    "now=datetime.now()\n",
    "print(now)"
   ]
  },
  {
   "cell_type": "code",
   "execution_count": 79,
   "id": "a436ab63",
   "metadata": {},
   "outputs": [
    {
     "name": "stdout",
     "output_type": "stream",
     "text": [
      "Default python date format 2023-04-03\n",
      "<class 'datetime.date'>\n",
      "Custmized user date format 03-04-23 I changed as day-month-year and Year is short %d-%m-%y\n",
      "Custmized user date format 03-04-2023 Year is long  %Y\n",
      "Custmized user date format 03-Apr-2023 Month is short %b\n",
      "Custmized user date format 03-April-2023 Month is Long %B\n",
      "Custmized user date format Mon 03-04-23 short week name  %a\n",
      "Custmized user date format Monday 03-04-23 long week name  %A\n",
      "Custmized user date format 2023-04-03 14 week from year and 1 week from month %W,%w\n",
      "Custmized user date format 093 From starting of year to till date number of days %j\n"
     ]
    }
   ],
   "source": [
    "# From now i want only date then\n",
    "date_s=now.date()\n",
    "print(\"Default python date format\",date_s);print(type(date_s))\n",
    "\n",
    "# I want to convert system format into my desire format then,\n",
    "date_u=now.strftime(\"%d-%m-%y\")\n",
    "print(\"Custmized user date format\",date_u,\"I changed as day-month-year and Year is short %d-%m-%y\")\n",
    "date_u=now.strftime(\"%d-%m-%Y\")\n",
    "print(\"Custmized user date format\",date_u,\"Year is long  %Y\")\n",
    "date_u=now.strftime(\"%d-%b-%Y\")\n",
    "print(\"Custmized user date format\",date_u,\"Month is short %b\")\n",
    "date_u=now.strftime(\"%d-%B-%Y\")\n",
    "print(\"Custmized user date format\",date_u,\"Month is Long %B\")\n",
    "date_u=now.strftime(\"%a %d-%m-%y\")\n",
    "print(\"Custmized user date format\",date_u,\"short week name  %a\")\n",
    "date_u=now.strftime(\"%A %d-%m-%y\")\n",
    "print(\"Custmized user date format\",date_u,\"long week name  %A\")\n",
    "\n",
    "date_u=now.strftime(\"%Y-%m-%d %W week from year and %w week from month\")\n",
    "print(\"Custmized user date format\",date_u,\"%W,%w\")\n",
    "\n",
    "date_u=now.strftime(\"%j From starting of year to till date number of days\")\n",
    "print(\"Custmized user date format\",date_u,\"%j\")"
   ]
  },
  {
   "cell_type": "code",
   "execution_count": 74,
   "id": "baa36daf",
   "metadata": {},
   "outputs": [
    {
     "name": "stdout",
     "output_type": "stream",
     "text": [
      "Default python time format 12:29:51.855766\n",
      "Custmized user time format 12:29:51.855766 24-hrs format %H\n",
      "Custmized user time format 12:29:51 12-hrs format %I\n",
      "Custmized user time format 12:29:51 PM (AM/PM) %p\n",
      "Custmized user time format 12:29 Only hrs and min\n"
     ]
    }
   ],
   "source": [
    "# From now i want only time then\n",
    "time_s=now.time()\n",
    "print(\"Default python time format\",time_s)\n",
    "time_u=now.strftime(\"%H:%M:%S.%f\")\n",
    "print(\"Custmized user time format\",time_u,\"24-hrs format %H\")\n",
    "time_u=now.strftime(\"%I:%M:%S\")\n",
    "print(\"Custmized user time format\",time_u,\"12-hrs format %I\")\n",
    "time_u=now.strftime(\"%I:%M:%S %p\")\n",
    "print(\"Custmized user time format\",time_u,\"(AM/PM) %p\")\n",
    "time_u=now.strftime(\"%H:%M\")\n",
    "print(\"Custmized user time format\",time_u,\"Only hrs and min\")"
   ]
  },
  {
   "cell_type": "code",
   "execution_count": 61,
   "id": "6bc21e22",
   "metadata": {},
   "outputs": [
    {
     "name": "stdout",
     "output_type": "stream",
     "text": [
      "Default python datetime format 2023-04-03 12:29:51.855766\n",
      "Custmized user datetime format 03-04-2023, 12:29:51.855766 24-hrs format %H\n",
      "Custmized user datetime format 03-04-2023, 12:29:51.855766 12-hrs format %I\n",
      "Custmized user datetime format 03-04-2023, 12:29:51 PM 12-hrs format with (AM/PM) %p\n"
     ]
    }
   ],
   "source": [
    "# Current date and time \n",
    "from datetime import datetime\n",
    "now=datetime.now(); print(\"Default python datetime format\",now)\n",
    "\n",
    "date_time=now.strftime(\"%d-%m-%Y, %H:%M:%S.%f 24-hrs format\")\n",
    "print(\"Custmized user datetime format\",date_time,\"%H\")\n",
    "\n",
    "date_time=now.strftime(\"%d-%m-%Y, %I:%M:%S.%f 12-hrs format\")\n",
    "print(\"Custmized user datetime format\",date_time,\"%I\")\n",
    "\n",
    "date_time=now.strftime(\"%d-%m-%Y, %I:%M:%S %p 12-hrs format with (AM/PM)\")\n",
    "print(\"Custmized user datetime format\",date_time,\"%p\")"
   ]
  },
  {
   "cell_type": "markdown",
   "id": "5b2241f9",
   "metadata": {},
   "source": [
    "### Converting System time format to user define format then we use \n",
    "#### strptime() function\n",
    "_u==>User\\\n",
    "_s==>System\n"
   ]
  },
  {
   "cell_type": "code",
   "execution_count": 84,
   "id": "8d7e3291",
   "metadata": {},
   "outputs": [
    {
     "name": "stdout",
     "output_type": "stream",
     "text": [
      "22-August-2023\n",
      "<class 'str'>\n"
     ]
    }
   ],
   "source": [
    "from datetime import datetime\n",
    "date_u=\"22-August-2023\"\n",
    "print(date_u)\n",
    "print(type(date_u))"
   ]
  },
  {
   "cell_type": "code",
   "execution_count": 85,
   "id": "783729b6",
   "metadata": {},
   "outputs": [
    {
     "name": "stdout",
     "output_type": "stream",
     "text": [
      "2023-08-22 00:00:00\n"
     ]
    }
   ],
   "source": [
    "date_s=datetime.strptime(date_u,\"%d-%B-%Y\")\n",
    "print(date_s)"
   ]
  },
  {
   "cell_type": "code",
   "execution_count": 87,
   "id": "032aa7e6",
   "metadata": {},
   "outputs": [],
   "source": [
    "import pandas as pd \n",
    "import numpy as np\n",
    "from datetime import datetime"
   ]
  },
  {
   "cell_type": "code",
   "execution_count": 97,
   "id": "e53c7093",
   "metadata": {},
   "outputs": [
    {
     "data": {
      "text/html": [
       "<div>\n",
       "<style scoped>\n",
       "    .dataframe tbody tr th:only-of-type {\n",
       "        vertical-align: middle;\n",
       "    }\n",
       "\n",
       "    .dataframe tbody tr th {\n",
       "        vertical-align: top;\n",
       "    }\n",
       "\n",
       "    .dataframe thead th {\n",
       "        text-align: right;\n",
       "    }\n",
       "</style>\n",
       "<table border=\"1\" class=\"dataframe\">\n",
       "  <thead>\n",
       "    <tr style=\"text-align: right;\">\n",
       "      <th></th>\n",
       "      <th>date_given</th>\n",
       "    </tr>\n",
       "  </thead>\n",
       "  <tbody>\n",
       "    <tr>\n",
       "      <th>0</th>\n",
       "      <td>2022-07-01 20:30:45</td>\n",
       "    </tr>\n",
       "    <tr>\n",
       "      <th>1</th>\n",
       "      <td>2022-07-02 20:30:45</td>\n",
       "    </tr>\n",
       "    <tr>\n",
       "      <th>2</th>\n",
       "      <td>2022-07-03 20:30:45</td>\n",
       "    </tr>\n",
       "    <tr>\n",
       "      <th>3</th>\n",
       "      <td>2022-07-04 20:30:45</td>\n",
       "    </tr>\n",
       "    <tr>\n",
       "      <th>4</th>\n",
       "      <td>2022-07-05 20:30:45</td>\n",
       "    </tr>\n",
       "  </tbody>\n",
       "</table>\n",
       "</div>"
      ],
      "text/plain": [
       "           date_given\n",
       "0 2022-07-01 20:30:45\n",
       "1 2022-07-02 20:30:45\n",
       "2 2022-07-03 20:30:45\n",
       "3 2022-07-04 20:30:45\n",
       "4 2022-07-05 20:30:45"
      ]
     },
     "execution_count": 97,
     "metadata": {},
     "output_type": "execute_result"
    }
   ],
   "source": [
    "date=pd.Series(pd.date_range(\"2022-07-01 20:30:45\",periods=5))\n",
    "df=pd.DataFrame(dict(date_given=date))\n",
    "df"
   ]
  },
  {
   "cell_type": "code",
   "execution_count": 107,
   "id": "262d2f68",
   "metadata": {},
   "outputs": [
    {
     "name": "stdout",
     "output_type": "stream",
     "text": [
      "           date_given                 today_date\n",
      "0 2022-07-01 20:30:45 2023-04-03 13:14:49.291198\n",
      "1 2022-07-02 20:30:45 2023-04-03 13:14:49.291198\n",
      "2 2022-07-03 20:30:45 2023-04-03 13:14:49.291198\n",
      "3 2022-07-04 20:30:45 2023-04-03 13:14:49.291198\n",
      "4 2022-07-05 20:30:45 2023-04-03 13:14:49.291198\n"
     ]
    }
   ],
   "source": [
    "df[\"today_date\"]=datetime.now()\n",
    "print(df)"
   ]
  },
  {
   "cell_type": "code",
   "execution_count": 108,
   "id": "dc28f74f",
   "metadata": {},
   "outputs": [
    {
     "data": {
      "text/html": [
       "<div>\n",
       "<style scoped>\n",
       "    .dataframe tbody tr th:only-of-type {\n",
       "        vertical-align: middle;\n",
       "    }\n",
       "\n",
       "    .dataframe tbody tr th {\n",
       "        vertical-align: top;\n",
       "    }\n",
       "\n",
       "    .dataframe thead th {\n",
       "        text-align: right;\n",
       "    }\n",
       "</style>\n",
       "<table border=\"1\" class=\"dataframe\">\n",
       "  <thead>\n",
       "    <tr style=\"text-align: right;\">\n",
       "      <th></th>\n",
       "      <th>date_given</th>\n",
       "      <th>today_date</th>\n",
       "    </tr>\n",
       "  </thead>\n",
       "  <tbody>\n",
       "    <tr>\n",
       "      <th>0</th>\n",
       "      <td>2022-07-01 20:30:45</td>\n",
       "      <td>2023-04-03 13:14:49.291198</td>\n",
       "    </tr>\n",
       "    <tr>\n",
       "      <th>1</th>\n",
       "      <td>2022-07-02 20:30:45</td>\n",
       "      <td>2023-04-03 13:14:49.291198</td>\n",
       "    </tr>\n",
       "    <tr>\n",
       "      <th>2</th>\n",
       "      <td>2022-07-03 20:30:45</td>\n",
       "      <td>2023-04-03 13:14:49.291198</td>\n",
       "    </tr>\n",
       "    <tr>\n",
       "      <th>3</th>\n",
       "      <td>2022-07-04 20:30:45</td>\n",
       "      <td>2023-04-03 13:14:49.291198</td>\n",
       "    </tr>\n",
       "    <tr>\n",
       "      <th>4</th>\n",
       "      <td>2022-07-05 20:30:45</td>\n",
       "      <td>2023-04-03 13:14:49.291198</td>\n",
       "    </tr>\n",
       "  </tbody>\n",
       "</table>\n",
       "</div>"
      ],
      "text/plain": [
       "           date_given                 today_date\n",
       "0 2022-07-01 20:30:45 2023-04-03 13:14:49.291198\n",
       "1 2022-07-02 20:30:45 2023-04-03 13:14:49.291198\n",
       "2 2022-07-03 20:30:45 2023-04-03 13:14:49.291198\n",
       "3 2022-07-04 20:30:45 2023-04-03 13:14:49.291198\n",
       "4 2022-07-05 20:30:45 2023-04-03 13:14:49.291198"
      ]
     },
     "execution_count": 108,
     "metadata": {},
     "output_type": "execute_result"
    }
   ],
   "source": [
    "df"
   ]
  },
  {
   "cell_type": "code",
   "execution_count": 109,
   "id": "c07e2d6f",
   "metadata": {},
   "outputs": [
    {
     "name": "stdout",
     "output_type": "stream",
     "text": [
      "<class 'pandas.core.frame.DataFrame'>\n",
      "RangeIndex: 5 entries, 0 to 4\n",
      "Data columns (total 2 columns):\n",
      " #   Column      Non-Null Count  Dtype         \n",
      "---  ------      --------------  -----         \n",
      " 0   date_given  5 non-null      datetime64[ns]\n",
      " 1   today_date  5 non-null      datetime64[ns]\n",
      "dtypes: datetime64[ns](2)\n",
      "memory usage: 208.0 bytes\n"
     ]
    }
   ],
   "source": [
    "df.info()"
   ]
  },
  {
   "cell_type": "code",
   "execution_count": 114,
   "id": "7babd46f",
   "metadata": {},
   "outputs": [],
   "source": [
    "df[\"Year_given\"]=df[\"date_given\"].dt.year"
   ]
  },
  {
   "cell_type": "code",
   "execution_count": 116,
   "id": "e4717ecb",
   "metadata": {},
   "outputs": [],
   "source": [
    "df[\"Month_given\"]=df[\"date_given\"].dt.month"
   ]
  },
  {
   "cell_type": "code",
   "execution_count": 117,
   "id": "a662e025",
   "metadata": {},
   "outputs": [],
   "source": [
    "df[\"Day_given\"]=df[\"date_given\"].dt.day"
   ]
  },
  {
   "cell_type": "code",
   "execution_count": 118,
   "id": "63a8e471",
   "metadata": {},
   "outputs": [
    {
     "data": {
      "text/html": [
       "<div>\n",
       "<style scoped>\n",
       "    .dataframe tbody tr th:only-of-type {\n",
       "        vertical-align: middle;\n",
       "    }\n",
       "\n",
       "    .dataframe tbody tr th {\n",
       "        vertical-align: top;\n",
       "    }\n",
       "\n",
       "    .dataframe thead th {\n",
       "        text-align: right;\n",
       "    }\n",
       "</style>\n",
       "<table border=\"1\" class=\"dataframe\">\n",
       "  <thead>\n",
       "    <tr style=\"text-align: right;\">\n",
       "      <th></th>\n",
       "      <th>date_given</th>\n",
       "      <th>today_date</th>\n",
       "      <th>Year_given</th>\n",
       "      <th>Month_given</th>\n",
       "      <th>Day_given</th>\n",
       "    </tr>\n",
       "  </thead>\n",
       "  <tbody>\n",
       "    <tr>\n",
       "      <th>0</th>\n",
       "      <td>2022-07-01 20:30:45</td>\n",
       "      <td>2023-04-03 13:14:49.291198</td>\n",
       "      <td>2022</td>\n",
       "      <td>7</td>\n",
       "      <td>1</td>\n",
       "    </tr>\n",
       "    <tr>\n",
       "      <th>1</th>\n",
       "      <td>2022-07-02 20:30:45</td>\n",
       "      <td>2023-04-03 13:14:49.291198</td>\n",
       "      <td>2022</td>\n",
       "      <td>7</td>\n",
       "      <td>2</td>\n",
       "    </tr>\n",
       "    <tr>\n",
       "      <th>2</th>\n",
       "      <td>2022-07-03 20:30:45</td>\n",
       "      <td>2023-04-03 13:14:49.291198</td>\n",
       "      <td>2022</td>\n",
       "      <td>7</td>\n",
       "      <td>3</td>\n",
       "    </tr>\n",
       "    <tr>\n",
       "      <th>3</th>\n",
       "      <td>2022-07-04 20:30:45</td>\n",
       "      <td>2023-04-03 13:14:49.291198</td>\n",
       "      <td>2022</td>\n",
       "      <td>7</td>\n",
       "      <td>4</td>\n",
       "    </tr>\n",
       "    <tr>\n",
       "      <th>4</th>\n",
       "      <td>2022-07-05 20:30:45</td>\n",
       "      <td>2023-04-03 13:14:49.291198</td>\n",
       "      <td>2022</td>\n",
       "      <td>7</td>\n",
       "      <td>5</td>\n",
       "    </tr>\n",
       "  </tbody>\n",
       "</table>\n",
       "</div>"
      ],
      "text/plain": [
       "           date_given                 today_date  Year_given  Month_given  \\\n",
       "0 2022-07-01 20:30:45 2023-04-03 13:14:49.291198        2022            7   \n",
       "1 2022-07-02 20:30:45 2023-04-03 13:14:49.291198        2022            7   \n",
       "2 2022-07-03 20:30:45 2023-04-03 13:14:49.291198        2022            7   \n",
       "3 2022-07-04 20:30:45 2023-04-03 13:14:49.291198        2022            7   \n",
       "4 2022-07-05 20:30:45 2023-04-03 13:14:49.291198        2022            7   \n",
       "\n",
       "   Day_given  \n",
       "0          1  \n",
       "1          2  \n",
       "2          3  \n",
       "3          4  \n",
       "4          5  "
      ]
     },
     "execution_count": 118,
     "metadata": {},
     "output_type": "execute_result"
    }
   ],
   "source": [
    "df"
   ]
  },
  {
   "cell_type": "code",
   "execution_count": 121,
   "id": "8b8272a6",
   "metadata": {},
   "outputs": [],
   "source": [
    "df[\"diff\"]=df[\"today_date\"]-df[\"date_given\"] # It returns in days"
   ]
  },
  {
   "cell_type": "code",
   "execution_count": 122,
   "id": "73ed9911",
   "metadata": {},
   "outputs": [
    {
     "data": {
      "text/html": [
       "<div>\n",
       "<style scoped>\n",
       "    .dataframe tbody tr th:only-of-type {\n",
       "        vertical-align: middle;\n",
       "    }\n",
       "\n",
       "    .dataframe tbody tr th {\n",
       "        vertical-align: top;\n",
       "    }\n",
       "\n",
       "    .dataframe thead th {\n",
       "        text-align: right;\n",
       "    }\n",
       "</style>\n",
       "<table border=\"1\" class=\"dataframe\">\n",
       "  <thead>\n",
       "    <tr style=\"text-align: right;\">\n",
       "      <th></th>\n",
       "      <th>date_given</th>\n",
       "      <th>today_date</th>\n",
       "      <th>Year_given</th>\n",
       "      <th>Month_given</th>\n",
       "      <th>Day_given</th>\n",
       "      <th>diff</th>\n",
       "    </tr>\n",
       "  </thead>\n",
       "  <tbody>\n",
       "    <tr>\n",
       "      <th>0</th>\n",
       "      <td>2022-07-01 20:30:45</td>\n",
       "      <td>2023-04-03 13:14:49.291198</td>\n",
       "      <td>2022</td>\n",
       "      <td>7</td>\n",
       "      <td>1</td>\n",
       "      <td>275 days 16:44:04.291198</td>\n",
       "    </tr>\n",
       "    <tr>\n",
       "      <th>1</th>\n",
       "      <td>2022-07-02 20:30:45</td>\n",
       "      <td>2023-04-03 13:14:49.291198</td>\n",
       "      <td>2022</td>\n",
       "      <td>7</td>\n",
       "      <td>2</td>\n",
       "      <td>274 days 16:44:04.291198</td>\n",
       "    </tr>\n",
       "    <tr>\n",
       "      <th>2</th>\n",
       "      <td>2022-07-03 20:30:45</td>\n",
       "      <td>2023-04-03 13:14:49.291198</td>\n",
       "      <td>2022</td>\n",
       "      <td>7</td>\n",
       "      <td>3</td>\n",
       "      <td>273 days 16:44:04.291198</td>\n",
       "    </tr>\n",
       "    <tr>\n",
       "      <th>3</th>\n",
       "      <td>2022-07-04 20:30:45</td>\n",
       "      <td>2023-04-03 13:14:49.291198</td>\n",
       "      <td>2022</td>\n",
       "      <td>7</td>\n",
       "      <td>4</td>\n",
       "      <td>272 days 16:44:04.291198</td>\n",
       "    </tr>\n",
       "    <tr>\n",
       "      <th>4</th>\n",
       "      <td>2022-07-05 20:30:45</td>\n",
       "      <td>2023-04-03 13:14:49.291198</td>\n",
       "      <td>2022</td>\n",
       "      <td>7</td>\n",
       "      <td>5</td>\n",
       "      <td>271 days 16:44:04.291198</td>\n",
       "    </tr>\n",
       "  </tbody>\n",
       "</table>\n",
       "</div>"
      ],
      "text/plain": [
       "           date_given                 today_date  Year_given  Month_given  \\\n",
       "0 2022-07-01 20:30:45 2023-04-03 13:14:49.291198        2022            7   \n",
       "1 2022-07-02 20:30:45 2023-04-03 13:14:49.291198        2022            7   \n",
       "2 2022-07-03 20:30:45 2023-04-03 13:14:49.291198        2022            7   \n",
       "3 2022-07-04 20:30:45 2023-04-03 13:14:49.291198        2022            7   \n",
       "4 2022-07-05 20:30:45 2023-04-03 13:14:49.291198        2022            7   \n",
       "\n",
       "   Day_given                     diff  \n",
       "0          1 275 days 16:44:04.291198  \n",
       "1          2 274 days 16:44:04.291198  \n",
       "2          3 273 days 16:44:04.291198  \n",
       "3          4 272 days 16:44:04.291198  \n",
       "4          5 271 days 16:44:04.291198  "
      ]
     },
     "execution_count": 122,
     "metadata": {},
     "output_type": "execute_result"
    }
   ],
   "source": [
    "df"
   ]
  },
  {
   "cell_type": "code",
   "execution_count": 123,
   "id": "e90b7d9a",
   "metadata": {},
   "outputs": [
    {
     "data": {
      "text/html": [
       "<div>\n",
       "<style scoped>\n",
       "    .dataframe tbody tr th:only-of-type {\n",
       "        vertical-align: middle;\n",
       "    }\n",
       "\n",
       "    .dataframe tbody tr th {\n",
       "        vertical-align: top;\n",
       "    }\n",
       "\n",
       "    .dataframe thead th {\n",
       "        text-align: right;\n",
       "    }\n",
       "</style>\n",
       "<table border=\"1\" class=\"dataframe\">\n",
       "  <thead>\n",
       "    <tr style=\"text-align: right;\">\n",
       "      <th></th>\n",
       "      <th>date_given</th>\n",
       "      <th>today_date</th>\n",
       "      <th>Year_given</th>\n",
       "      <th>Month_given</th>\n",
       "      <th>Day_given</th>\n",
       "      <th>diff</th>\n",
       "      <th>date_given_dt</th>\n",
       "    </tr>\n",
       "  </thead>\n",
       "  <tbody>\n",
       "    <tr>\n",
       "      <th>0</th>\n",
       "      <td>2022-07-01 20:30:45</td>\n",
       "      <td>2023-04-03 13:14:49.291198</td>\n",
       "      <td>2022</td>\n",
       "      <td>7</td>\n",
       "      <td>1</td>\n",
       "      <td>275 days 16:44:04.291198</td>\n",
       "      <td>2022-07-01</td>\n",
       "    </tr>\n",
       "    <tr>\n",
       "      <th>1</th>\n",
       "      <td>2022-07-02 20:30:45</td>\n",
       "      <td>2023-04-03 13:14:49.291198</td>\n",
       "      <td>2022</td>\n",
       "      <td>7</td>\n",
       "      <td>2</td>\n",
       "      <td>274 days 16:44:04.291198</td>\n",
       "      <td>2022-07-02</td>\n",
       "    </tr>\n",
       "    <tr>\n",
       "      <th>2</th>\n",
       "      <td>2022-07-03 20:30:45</td>\n",
       "      <td>2023-04-03 13:14:49.291198</td>\n",
       "      <td>2022</td>\n",
       "      <td>7</td>\n",
       "      <td>3</td>\n",
       "      <td>273 days 16:44:04.291198</td>\n",
       "      <td>2022-07-03</td>\n",
       "    </tr>\n",
       "    <tr>\n",
       "      <th>3</th>\n",
       "      <td>2022-07-04 20:30:45</td>\n",
       "      <td>2023-04-03 13:14:49.291198</td>\n",
       "      <td>2022</td>\n",
       "      <td>7</td>\n",
       "      <td>4</td>\n",
       "      <td>272 days 16:44:04.291198</td>\n",
       "      <td>2022-07-04</td>\n",
       "    </tr>\n",
       "    <tr>\n",
       "      <th>4</th>\n",
       "      <td>2022-07-05 20:30:45</td>\n",
       "      <td>2023-04-03 13:14:49.291198</td>\n",
       "      <td>2022</td>\n",
       "      <td>7</td>\n",
       "      <td>5</td>\n",
       "      <td>271 days 16:44:04.291198</td>\n",
       "      <td>2022-07-05</td>\n",
       "    </tr>\n",
       "  </tbody>\n",
       "</table>\n",
       "</div>"
      ],
      "text/plain": [
       "           date_given                 today_date  Year_given  Month_given  \\\n",
       "0 2022-07-01 20:30:45 2023-04-03 13:14:49.291198        2022            7   \n",
       "1 2022-07-02 20:30:45 2023-04-03 13:14:49.291198        2022            7   \n",
       "2 2022-07-03 20:30:45 2023-04-03 13:14:49.291198        2022            7   \n",
       "3 2022-07-04 20:30:45 2023-04-03 13:14:49.291198        2022            7   \n",
       "4 2022-07-05 20:30:45 2023-04-03 13:14:49.291198        2022            7   \n",
       "\n",
       "   Day_given                     diff date_given_dt  \n",
       "0          1 275 days 16:44:04.291198    2022-07-01  \n",
       "1          2 274 days 16:44:04.291198    2022-07-02  \n",
       "2          3 273 days 16:44:04.291198    2022-07-03  \n",
       "3          4 272 days 16:44:04.291198    2022-07-04  \n",
       "4          5 271 days 16:44:04.291198    2022-07-05  "
      ]
     },
     "execution_count": 123,
     "metadata": {},
     "output_type": "execute_result"
    }
   ],
   "source": [
    "df[\"date_given_dt\"]=pd.to_datetime(df[\"date_given\"]).dt.date\n",
    "df"
   ]
  },
  {
   "cell_type": "code",
   "execution_count": 124,
   "id": "a35176e1",
   "metadata": {},
   "outputs": [
    {
     "data": {
      "text/html": [
       "<div>\n",
       "<style scoped>\n",
       "    .dataframe tbody tr th:only-of-type {\n",
       "        vertical-align: middle;\n",
       "    }\n",
       "\n",
       "    .dataframe tbody tr th {\n",
       "        vertical-align: top;\n",
       "    }\n",
       "\n",
       "    .dataframe thead th {\n",
       "        text-align: right;\n",
       "    }\n",
       "</style>\n",
       "<table border=\"1\" class=\"dataframe\">\n",
       "  <thead>\n",
       "    <tr style=\"text-align: right;\">\n",
       "      <th></th>\n",
       "      <th>date_given</th>\n",
       "      <th>today_date</th>\n",
       "      <th>Year_given</th>\n",
       "      <th>Month_given</th>\n",
       "      <th>Day_given</th>\n",
       "      <th>diff</th>\n",
       "      <th>date_given_dt</th>\n",
       "      <th>today_dt</th>\n",
       "    </tr>\n",
       "  </thead>\n",
       "  <tbody>\n",
       "    <tr>\n",
       "      <th>0</th>\n",
       "      <td>2022-07-01 20:30:45</td>\n",
       "      <td>2023-04-03 13:14:49.291198</td>\n",
       "      <td>2022</td>\n",
       "      <td>7</td>\n",
       "      <td>1</td>\n",
       "      <td>275 days 16:44:04.291198</td>\n",
       "      <td>2022-07-01</td>\n",
       "      <td>2023-04-03</td>\n",
       "    </tr>\n",
       "    <tr>\n",
       "      <th>1</th>\n",
       "      <td>2022-07-02 20:30:45</td>\n",
       "      <td>2023-04-03 13:14:49.291198</td>\n",
       "      <td>2022</td>\n",
       "      <td>7</td>\n",
       "      <td>2</td>\n",
       "      <td>274 days 16:44:04.291198</td>\n",
       "      <td>2022-07-02</td>\n",
       "      <td>2023-04-03</td>\n",
       "    </tr>\n",
       "    <tr>\n",
       "      <th>2</th>\n",
       "      <td>2022-07-03 20:30:45</td>\n",
       "      <td>2023-04-03 13:14:49.291198</td>\n",
       "      <td>2022</td>\n",
       "      <td>7</td>\n",
       "      <td>3</td>\n",
       "      <td>273 days 16:44:04.291198</td>\n",
       "      <td>2022-07-03</td>\n",
       "      <td>2023-04-03</td>\n",
       "    </tr>\n",
       "    <tr>\n",
       "      <th>3</th>\n",
       "      <td>2022-07-04 20:30:45</td>\n",
       "      <td>2023-04-03 13:14:49.291198</td>\n",
       "      <td>2022</td>\n",
       "      <td>7</td>\n",
       "      <td>4</td>\n",
       "      <td>272 days 16:44:04.291198</td>\n",
       "      <td>2022-07-04</td>\n",
       "      <td>2023-04-03</td>\n",
       "    </tr>\n",
       "    <tr>\n",
       "      <th>4</th>\n",
       "      <td>2022-07-05 20:30:45</td>\n",
       "      <td>2023-04-03 13:14:49.291198</td>\n",
       "      <td>2022</td>\n",
       "      <td>7</td>\n",
       "      <td>5</td>\n",
       "      <td>271 days 16:44:04.291198</td>\n",
       "      <td>2022-07-05</td>\n",
       "      <td>2023-04-03</td>\n",
       "    </tr>\n",
       "  </tbody>\n",
       "</table>\n",
       "</div>"
      ],
      "text/plain": [
       "           date_given                 today_date  Year_given  Month_given  \\\n",
       "0 2022-07-01 20:30:45 2023-04-03 13:14:49.291198        2022            7   \n",
       "1 2022-07-02 20:30:45 2023-04-03 13:14:49.291198        2022            7   \n",
       "2 2022-07-03 20:30:45 2023-04-03 13:14:49.291198        2022            7   \n",
       "3 2022-07-04 20:30:45 2023-04-03 13:14:49.291198        2022            7   \n",
       "4 2022-07-05 20:30:45 2023-04-03 13:14:49.291198        2022            7   \n",
       "\n",
       "   Day_given                     diff date_given_dt    today_dt  \n",
       "0          1 275 days 16:44:04.291198    2022-07-01  2023-04-03  \n",
       "1          2 274 days 16:44:04.291198    2022-07-02  2023-04-03  \n",
       "2          3 273 days 16:44:04.291198    2022-07-03  2023-04-03  \n",
       "3          4 272 days 16:44:04.291198    2022-07-04  2023-04-03  \n",
       "4          5 271 days 16:44:04.291198    2022-07-05  2023-04-03  "
      ]
     },
     "execution_count": 124,
     "metadata": {},
     "output_type": "execute_result"
    }
   ],
   "source": [
    "df[\"today_dt\"]=pd.to_datetime(df[\"today_date\"]).dt.date\n",
    "df"
   ]
  },
  {
   "cell_type": "code",
   "execution_count": 126,
   "id": "ddafa3f2",
   "metadata": {},
   "outputs": [
    {
     "data": {
      "text/html": [
       "<div>\n",
       "<style scoped>\n",
       "    .dataframe tbody tr th:only-of-type {\n",
       "        vertical-align: middle;\n",
       "    }\n",
       "\n",
       "    .dataframe tbody tr th {\n",
       "        vertical-align: top;\n",
       "    }\n",
       "\n",
       "    .dataframe thead th {\n",
       "        text-align: right;\n",
       "    }\n",
       "</style>\n",
       "<table border=\"1\" class=\"dataframe\">\n",
       "  <thead>\n",
       "    <tr style=\"text-align: right;\">\n",
       "      <th></th>\n",
       "      <th>date_given</th>\n",
       "      <th>today_date</th>\n",
       "      <th>Year_given</th>\n",
       "      <th>Month_given</th>\n",
       "      <th>Day_given</th>\n",
       "      <th>diff</th>\n",
       "      <th>date_given_dt</th>\n",
       "      <th>today_dt</th>\n",
       "      <th>diff2</th>\n",
       "    </tr>\n",
       "  </thead>\n",
       "  <tbody>\n",
       "    <tr>\n",
       "      <th>0</th>\n",
       "      <td>2022-07-01 20:30:45</td>\n",
       "      <td>2023-04-03 13:14:49.291198</td>\n",
       "      <td>2022</td>\n",
       "      <td>7</td>\n",
       "      <td>1</td>\n",
       "      <td>275 days 16:44:04.291198</td>\n",
       "      <td>2022-07-01</td>\n",
       "      <td>2023-04-03</td>\n",
       "      <td>276 days</td>\n",
       "    </tr>\n",
       "    <tr>\n",
       "      <th>1</th>\n",
       "      <td>2022-07-02 20:30:45</td>\n",
       "      <td>2023-04-03 13:14:49.291198</td>\n",
       "      <td>2022</td>\n",
       "      <td>7</td>\n",
       "      <td>2</td>\n",
       "      <td>274 days 16:44:04.291198</td>\n",
       "      <td>2022-07-02</td>\n",
       "      <td>2023-04-03</td>\n",
       "      <td>275 days</td>\n",
       "    </tr>\n",
       "    <tr>\n",
       "      <th>2</th>\n",
       "      <td>2022-07-03 20:30:45</td>\n",
       "      <td>2023-04-03 13:14:49.291198</td>\n",
       "      <td>2022</td>\n",
       "      <td>7</td>\n",
       "      <td>3</td>\n",
       "      <td>273 days 16:44:04.291198</td>\n",
       "      <td>2022-07-03</td>\n",
       "      <td>2023-04-03</td>\n",
       "      <td>274 days</td>\n",
       "    </tr>\n",
       "    <tr>\n",
       "      <th>3</th>\n",
       "      <td>2022-07-04 20:30:45</td>\n",
       "      <td>2023-04-03 13:14:49.291198</td>\n",
       "      <td>2022</td>\n",
       "      <td>7</td>\n",
       "      <td>4</td>\n",
       "      <td>272 days 16:44:04.291198</td>\n",
       "      <td>2022-07-04</td>\n",
       "      <td>2023-04-03</td>\n",
       "      <td>273 days</td>\n",
       "    </tr>\n",
       "    <tr>\n",
       "      <th>4</th>\n",
       "      <td>2022-07-05 20:30:45</td>\n",
       "      <td>2023-04-03 13:14:49.291198</td>\n",
       "      <td>2022</td>\n",
       "      <td>7</td>\n",
       "      <td>5</td>\n",
       "      <td>271 days 16:44:04.291198</td>\n",
       "      <td>2022-07-05</td>\n",
       "      <td>2023-04-03</td>\n",
       "      <td>272 days</td>\n",
       "    </tr>\n",
       "  </tbody>\n",
       "</table>\n",
       "</div>"
      ],
      "text/plain": [
       "           date_given                 today_date  Year_given  Month_given  \\\n",
       "0 2022-07-01 20:30:45 2023-04-03 13:14:49.291198        2022            7   \n",
       "1 2022-07-02 20:30:45 2023-04-03 13:14:49.291198        2022            7   \n",
       "2 2022-07-03 20:30:45 2023-04-03 13:14:49.291198        2022            7   \n",
       "3 2022-07-04 20:30:45 2023-04-03 13:14:49.291198        2022            7   \n",
       "4 2022-07-05 20:30:45 2023-04-03 13:14:49.291198        2022            7   \n",
       "\n",
       "   Day_given                     diff date_given_dt    today_dt    diff2  \n",
       "0          1 275 days 16:44:04.291198    2022-07-01  2023-04-03 276 days  \n",
       "1          2 274 days 16:44:04.291198    2022-07-02  2023-04-03 275 days  \n",
       "2          3 273 days 16:44:04.291198    2022-07-03  2023-04-03 274 days  \n",
       "3          4 272 days 16:44:04.291198    2022-07-04  2023-04-03 273 days  \n",
       "4          5 271 days 16:44:04.291198    2022-07-05  2023-04-03 272 days  "
      ]
     },
     "execution_count": 126,
     "metadata": {},
     "output_type": "execute_result"
    }
   ],
   "source": [
    "df[\"diff2\"]=df[\"today_dt\"]-df[\"date_given_dt\"] # It returns in days\n",
    "df"
   ]
  },
  {
   "cell_type": "code",
   "execution_count": 130,
   "id": "d09837dd",
   "metadata": {},
   "outputs": [
    {
     "data": {
      "text/html": [
       "<div>\n",
       "<style scoped>\n",
       "    .dataframe tbody tr th:only-of-type {\n",
       "        vertical-align: middle;\n",
       "    }\n",
       "\n",
       "    .dataframe tbody tr th {\n",
       "        vertical-align: top;\n",
       "    }\n",
       "\n",
       "    .dataframe thead th {\n",
       "        text-align: right;\n",
       "    }\n",
       "</style>\n",
       "<table border=\"1\" class=\"dataframe\">\n",
       "  <thead>\n",
       "    <tr style=\"text-align: right;\">\n",
       "      <th></th>\n",
       "      <th>date_given</th>\n",
       "      <th>today_date</th>\n",
       "      <th>Year_given</th>\n",
       "      <th>Month_given</th>\n",
       "      <th>Day_given</th>\n",
       "      <th>diff</th>\n",
       "      <th>date_given_dt</th>\n",
       "      <th>today_dt</th>\n",
       "      <th>diff2</th>\n",
       "      <th>diff_mnt</th>\n",
       "    </tr>\n",
       "  </thead>\n",
       "  <tbody>\n",
       "    <tr>\n",
       "      <th>0</th>\n",
       "      <td>2022-07-01 20:30:45</td>\n",
       "      <td>2023-04-03 13:14:49.291198</td>\n",
       "      <td>2022</td>\n",
       "      <td>7</td>\n",
       "      <td>1</td>\n",
       "      <td>275 days 16:44:04.291198</td>\n",
       "      <td>2022-07-01</td>\n",
       "      <td>2023-04-03</td>\n",
       "      <td>276 days</td>\n",
       "      <td>9.067948</td>\n",
       "    </tr>\n",
       "    <tr>\n",
       "      <th>1</th>\n",
       "      <td>2022-07-02 20:30:45</td>\n",
       "      <td>2023-04-03 13:14:49.291198</td>\n",
       "      <td>2022</td>\n",
       "      <td>7</td>\n",
       "      <td>2</td>\n",
       "      <td>274 days 16:44:04.291198</td>\n",
       "      <td>2022-07-02</td>\n",
       "      <td>2023-04-03</td>\n",
       "      <td>275 days</td>\n",
       "      <td>9.035093</td>\n",
       "    </tr>\n",
       "    <tr>\n",
       "      <th>2</th>\n",
       "      <td>2022-07-03 20:30:45</td>\n",
       "      <td>2023-04-03 13:14:49.291198</td>\n",
       "      <td>2022</td>\n",
       "      <td>7</td>\n",
       "      <td>3</td>\n",
       "      <td>273 days 16:44:04.291198</td>\n",
       "      <td>2022-07-03</td>\n",
       "      <td>2023-04-03</td>\n",
       "      <td>274 days</td>\n",
       "      <td>9.002238</td>\n",
       "    </tr>\n",
       "    <tr>\n",
       "      <th>3</th>\n",
       "      <td>2022-07-04 20:30:45</td>\n",
       "      <td>2023-04-03 13:14:49.291198</td>\n",
       "      <td>2022</td>\n",
       "      <td>7</td>\n",
       "      <td>4</td>\n",
       "      <td>272 days 16:44:04.291198</td>\n",
       "      <td>2022-07-04</td>\n",
       "      <td>2023-04-03</td>\n",
       "      <td>273 days</td>\n",
       "      <td>8.969383</td>\n",
       "    </tr>\n",
       "    <tr>\n",
       "      <th>4</th>\n",
       "      <td>2022-07-05 20:30:45</td>\n",
       "      <td>2023-04-03 13:14:49.291198</td>\n",
       "      <td>2022</td>\n",
       "      <td>7</td>\n",
       "      <td>5</td>\n",
       "      <td>271 days 16:44:04.291198</td>\n",
       "      <td>2022-07-05</td>\n",
       "      <td>2023-04-03</td>\n",
       "      <td>272 days</td>\n",
       "      <td>8.936528</td>\n",
       "    </tr>\n",
       "  </tbody>\n",
       "</table>\n",
       "</div>"
      ],
      "text/plain": [
       "           date_given                 today_date  Year_given  Month_given  \\\n",
       "0 2022-07-01 20:30:45 2023-04-03 13:14:49.291198        2022            7   \n",
       "1 2022-07-02 20:30:45 2023-04-03 13:14:49.291198        2022            7   \n",
       "2 2022-07-03 20:30:45 2023-04-03 13:14:49.291198        2022            7   \n",
       "3 2022-07-04 20:30:45 2023-04-03 13:14:49.291198        2022            7   \n",
       "4 2022-07-05 20:30:45 2023-04-03 13:14:49.291198        2022            7   \n",
       "\n",
       "   Day_given                     diff date_given_dt    today_dt    diff2  \\\n",
       "0          1 275 days 16:44:04.291198    2022-07-01  2023-04-03 276 days   \n",
       "1          2 274 days 16:44:04.291198    2022-07-02  2023-04-03 275 days   \n",
       "2          3 273 days 16:44:04.291198    2022-07-03  2023-04-03 274 days   \n",
       "3          4 272 days 16:44:04.291198    2022-07-04  2023-04-03 273 days   \n",
       "4          5 271 days 16:44:04.291198    2022-07-05  2023-04-03 272 days   \n",
       "\n",
       "   diff_mnt  \n",
       "0  9.067948  \n",
       "1  9.035093  \n",
       "2  9.002238  \n",
       "3  8.969383  \n",
       "4  8.936528  "
      ]
     },
     "execution_count": 130,
     "metadata": {},
     "output_type": "execute_result"
    }
   ],
   "source": [
    "# how to convert days into months\n",
    "df[\"diff_mnt\"]=(df[\"diff2\"]/np.timedelta64(1,\"M\"))\n",
    "df"
   ]
  },
  {
   "cell_type": "code",
   "execution_count": 131,
   "id": "3463228b",
   "metadata": {},
   "outputs": [
    {
     "data": {
      "text/html": [
       "<div>\n",
       "<style scoped>\n",
       "    .dataframe tbody tr th:only-of-type {\n",
       "        vertical-align: middle;\n",
       "    }\n",
       "\n",
       "    .dataframe tbody tr th {\n",
       "        vertical-align: top;\n",
       "    }\n",
       "\n",
       "    .dataframe thead th {\n",
       "        text-align: right;\n",
       "    }\n",
       "</style>\n",
       "<table border=\"1\" class=\"dataframe\">\n",
       "  <thead>\n",
       "    <tr style=\"text-align: right;\">\n",
       "      <th></th>\n",
       "      <th>date_given</th>\n",
       "      <th>today_date</th>\n",
       "      <th>Year_given</th>\n",
       "      <th>Month_given</th>\n",
       "      <th>Day_given</th>\n",
       "      <th>diff</th>\n",
       "      <th>date_given_dt</th>\n",
       "      <th>today_dt</th>\n",
       "      <th>diff2</th>\n",
       "      <th>diff_mnt</th>\n",
       "      <th>diff_year</th>\n",
       "    </tr>\n",
       "  </thead>\n",
       "  <tbody>\n",
       "    <tr>\n",
       "      <th>0</th>\n",
       "      <td>2022-07-01 20:30:45</td>\n",
       "      <td>2023-04-03 13:14:49.291198</td>\n",
       "      <td>2022</td>\n",
       "      <td>7</td>\n",
       "      <td>1</td>\n",
       "      <td>275 days 16:44:04.291198</td>\n",
       "      <td>2022-07-01</td>\n",
       "      <td>2023-04-03</td>\n",
       "      <td>276 days</td>\n",
       "      <td>9.067948</td>\n",
       "      <td>0.755662</td>\n",
       "    </tr>\n",
       "    <tr>\n",
       "      <th>1</th>\n",
       "      <td>2022-07-02 20:30:45</td>\n",
       "      <td>2023-04-03 13:14:49.291198</td>\n",
       "      <td>2022</td>\n",
       "      <td>7</td>\n",
       "      <td>2</td>\n",
       "      <td>274 days 16:44:04.291198</td>\n",
       "      <td>2022-07-02</td>\n",
       "      <td>2023-04-03</td>\n",
       "      <td>275 days</td>\n",
       "      <td>9.035093</td>\n",
       "      <td>0.752924</td>\n",
       "    </tr>\n",
       "    <tr>\n",
       "      <th>2</th>\n",
       "      <td>2022-07-03 20:30:45</td>\n",
       "      <td>2023-04-03 13:14:49.291198</td>\n",
       "      <td>2022</td>\n",
       "      <td>7</td>\n",
       "      <td>3</td>\n",
       "      <td>273 days 16:44:04.291198</td>\n",
       "      <td>2022-07-03</td>\n",
       "      <td>2023-04-03</td>\n",
       "      <td>274 days</td>\n",
       "      <td>9.002238</td>\n",
       "      <td>0.750187</td>\n",
       "    </tr>\n",
       "    <tr>\n",
       "      <th>3</th>\n",
       "      <td>2022-07-04 20:30:45</td>\n",
       "      <td>2023-04-03 13:14:49.291198</td>\n",
       "      <td>2022</td>\n",
       "      <td>7</td>\n",
       "      <td>4</td>\n",
       "      <td>272 days 16:44:04.291198</td>\n",
       "      <td>2022-07-04</td>\n",
       "      <td>2023-04-03</td>\n",
       "      <td>273 days</td>\n",
       "      <td>8.969383</td>\n",
       "      <td>0.747449</td>\n",
       "    </tr>\n",
       "    <tr>\n",
       "      <th>4</th>\n",
       "      <td>2022-07-05 20:30:45</td>\n",
       "      <td>2023-04-03 13:14:49.291198</td>\n",
       "      <td>2022</td>\n",
       "      <td>7</td>\n",
       "      <td>5</td>\n",
       "      <td>271 days 16:44:04.291198</td>\n",
       "      <td>2022-07-05</td>\n",
       "      <td>2023-04-03</td>\n",
       "      <td>272 days</td>\n",
       "      <td>8.936528</td>\n",
       "      <td>0.744711</td>\n",
       "    </tr>\n",
       "  </tbody>\n",
       "</table>\n",
       "</div>"
      ],
      "text/plain": [
       "           date_given                 today_date  Year_given  Month_given  \\\n",
       "0 2022-07-01 20:30:45 2023-04-03 13:14:49.291198        2022            7   \n",
       "1 2022-07-02 20:30:45 2023-04-03 13:14:49.291198        2022            7   \n",
       "2 2022-07-03 20:30:45 2023-04-03 13:14:49.291198        2022            7   \n",
       "3 2022-07-04 20:30:45 2023-04-03 13:14:49.291198        2022            7   \n",
       "4 2022-07-05 20:30:45 2023-04-03 13:14:49.291198        2022            7   \n",
       "\n",
       "   Day_given                     diff date_given_dt    today_dt    diff2  \\\n",
       "0          1 275 days 16:44:04.291198    2022-07-01  2023-04-03 276 days   \n",
       "1          2 274 days 16:44:04.291198    2022-07-02  2023-04-03 275 days   \n",
       "2          3 273 days 16:44:04.291198    2022-07-03  2023-04-03 274 days   \n",
       "3          4 272 days 16:44:04.291198    2022-07-04  2023-04-03 273 days   \n",
       "4          5 271 days 16:44:04.291198    2022-07-05  2023-04-03 272 days   \n",
       "\n",
       "   diff_mnt  diff_year  \n",
       "0  9.067948   0.755662  \n",
       "1  9.035093   0.752924  \n",
       "2  9.002238   0.750187  \n",
       "3  8.969383   0.747449  \n",
       "4  8.936528   0.744711  "
      ]
     },
     "execution_count": 131,
     "metadata": {},
     "output_type": "execute_result"
    }
   ],
   "source": [
    "# how to convert days into years\n",
    "df[\"diff_year\"]=(df[\"diff2\"]/np.timedelta64(1,\"Y\"))\n",
    "df"
   ]
  },
  {
   "cell_type": "code",
   "execution_count": null,
   "id": "c10578cf",
   "metadata": {},
   "outputs": [],
   "source": []
  },
  {
   "cell_type": "code",
   "execution_count": null,
   "id": "a00ead67",
   "metadata": {},
   "outputs": [],
   "source": []
  },
  {
   "cell_type": "code",
   "execution_count": null,
   "id": "29a1221a",
   "metadata": {},
   "outputs": [],
   "source": []
  },
  {
   "cell_type": "code",
   "execution_count": null,
   "id": "2326cdde",
   "metadata": {},
   "outputs": [],
   "source": []
  },
  {
   "cell_type": "code",
   "execution_count": null,
   "id": "696438d6",
   "metadata": {},
   "outputs": [],
   "source": []
  },
  {
   "cell_type": "code",
   "execution_count": null,
   "id": "ea6d9bbe",
   "metadata": {},
   "outputs": [],
   "source": []
  },
  {
   "cell_type": "code",
   "execution_count": null,
   "id": "d18971a5",
   "metadata": {},
   "outputs": [],
   "source": []
  },
  {
   "cell_type": "code",
   "execution_count": null,
   "id": "ee035da4",
   "metadata": {},
   "outputs": [],
   "source": []
  },
  {
   "cell_type": "code",
   "execution_count": null,
   "id": "7380e7f5",
   "metadata": {},
   "outputs": [],
   "source": []
  },
  {
   "cell_type": "code",
   "execution_count": null,
   "id": "33df8dd0",
   "metadata": {},
   "outputs": [],
   "source": []
  },
  {
   "cell_type": "code",
   "execution_count": null,
   "id": "7baf08e5",
   "metadata": {},
   "outputs": [],
   "source": []
  },
  {
   "cell_type": "code",
   "execution_count": null,
   "id": "426438b3",
   "metadata": {},
   "outputs": [],
   "source": []
  },
  {
   "cell_type": "code",
   "execution_count": null,
   "id": "96c82cce",
   "metadata": {},
   "outputs": [],
   "source": []
  },
  {
   "cell_type": "code",
   "execution_count": null,
   "id": "33941440",
   "metadata": {},
   "outputs": [],
   "source": []
  },
  {
   "cell_type": "code",
   "execution_count": null,
   "id": "5d3a8c9d",
   "metadata": {},
   "outputs": [],
   "source": []
  },
  {
   "cell_type": "code",
   "execution_count": null,
   "id": "f046c40f",
   "metadata": {},
   "outputs": [],
   "source": []
  },
  {
   "cell_type": "code",
   "execution_count": null,
   "id": "e51393c5",
   "metadata": {},
   "outputs": [],
   "source": []
  },
  {
   "cell_type": "code",
   "execution_count": null,
   "id": "3a56ed50",
   "metadata": {},
   "outputs": [],
   "source": []
  },
  {
   "cell_type": "code",
   "execution_count": null,
   "id": "36db240c",
   "metadata": {},
   "outputs": [],
   "source": []
  },
  {
   "cell_type": "code",
   "execution_count": null,
   "id": "82056860",
   "metadata": {},
   "outputs": [],
   "source": []
  },
  {
   "cell_type": "code",
   "execution_count": null,
   "id": "1abbb969",
   "metadata": {},
   "outputs": [],
   "source": []
  },
  {
   "cell_type": "code",
   "execution_count": null,
   "id": "c28d4059",
   "metadata": {},
   "outputs": [],
   "source": []
  },
  {
   "cell_type": "code",
   "execution_count": null,
   "id": "5f219947",
   "metadata": {},
   "outputs": [],
   "source": []
  },
  {
   "cell_type": "code",
   "execution_count": null,
   "id": "4db317a4",
   "metadata": {},
   "outputs": [],
   "source": []
  },
  {
   "cell_type": "code",
   "execution_count": null,
   "id": "f2d37684",
   "metadata": {},
   "outputs": [],
   "source": []
  },
  {
   "cell_type": "code",
   "execution_count": null,
   "id": "b181e76b",
   "metadata": {},
   "outputs": [],
   "source": []
  },
  {
   "cell_type": "code",
   "execution_count": null,
   "id": "5c69f01f",
   "metadata": {},
   "outputs": [],
   "source": []
  },
  {
   "cell_type": "code",
   "execution_count": null,
   "id": "976204af",
   "metadata": {},
   "outputs": [],
   "source": []
  },
  {
   "cell_type": "code",
   "execution_count": null,
   "id": "1004a089",
   "metadata": {},
   "outputs": [],
   "source": []
  },
  {
   "cell_type": "code",
   "execution_count": null,
   "id": "afbc7416",
   "metadata": {},
   "outputs": [],
   "source": []
  },
  {
   "cell_type": "code",
   "execution_count": null,
   "id": "bd309252",
   "metadata": {},
   "outputs": [],
   "source": []
  },
  {
   "cell_type": "code",
   "execution_count": null,
   "id": "2e087aca",
   "metadata": {},
   "outputs": [],
   "source": []
  },
  {
   "cell_type": "code",
   "execution_count": null,
   "id": "9362ccca",
   "metadata": {},
   "outputs": [],
   "source": []
  },
  {
   "cell_type": "code",
   "execution_count": null,
   "id": "c7f8932a",
   "metadata": {},
   "outputs": [],
   "source": []
  },
  {
   "cell_type": "code",
   "execution_count": null,
   "id": "1981ea00",
   "metadata": {},
   "outputs": [],
   "source": []
  },
  {
   "cell_type": "code",
   "execution_count": null,
   "id": "b1b75294",
   "metadata": {},
   "outputs": [],
   "source": []
  },
  {
   "cell_type": "code",
   "execution_count": null,
   "id": "23072690",
   "metadata": {},
   "outputs": [],
   "source": []
  },
  {
   "cell_type": "code",
   "execution_count": null,
   "id": "5d1f1fb4",
   "metadata": {},
   "outputs": [],
   "source": []
  },
  {
   "cell_type": "code",
   "execution_count": null,
   "id": "89f3185c",
   "metadata": {},
   "outputs": [],
   "source": []
  },
  {
   "cell_type": "code",
   "execution_count": null,
   "id": "3b0214b8",
   "metadata": {},
   "outputs": [],
   "source": []
  },
  {
   "cell_type": "code",
   "execution_count": null,
   "id": "997b6268",
   "metadata": {},
   "outputs": [],
   "source": []
  },
  {
   "cell_type": "code",
   "execution_count": null,
   "id": "b01eb2fe",
   "metadata": {},
   "outputs": [],
   "source": []
  },
  {
   "cell_type": "code",
   "execution_count": null,
   "id": "ba8d784a",
   "metadata": {},
   "outputs": [],
   "source": []
  },
  {
   "cell_type": "code",
   "execution_count": null,
   "id": "d895bbe3",
   "metadata": {},
   "outputs": [],
   "source": []
  },
  {
   "cell_type": "code",
   "execution_count": null,
   "id": "ca7d4289",
   "metadata": {},
   "outputs": [],
   "source": []
  },
  {
   "cell_type": "code",
   "execution_count": null,
   "id": "505ade06",
   "metadata": {},
   "outputs": [],
   "source": []
  },
  {
   "cell_type": "code",
   "execution_count": null,
   "id": "bb6188b2",
   "metadata": {},
   "outputs": [],
   "source": []
  },
  {
   "cell_type": "code",
   "execution_count": null,
   "id": "72a342f3",
   "metadata": {},
   "outputs": [],
   "source": []
  },
  {
   "cell_type": "code",
   "execution_count": null,
   "id": "aa286c0f",
   "metadata": {},
   "outputs": [],
   "source": []
  },
  {
   "cell_type": "code",
   "execution_count": null,
   "id": "d2e03562",
   "metadata": {},
   "outputs": [],
   "source": []
  },
  {
   "cell_type": "code",
   "execution_count": null,
   "id": "5d84322c",
   "metadata": {},
   "outputs": [],
   "source": []
  },
  {
   "cell_type": "code",
   "execution_count": null,
   "id": "72b40600",
   "metadata": {},
   "outputs": [],
   "source": []
  },
  {
   "cell_type": "code",
   "execution_count": null,
   "id": "0f717941",
   "metadata": {},
   "outputs": [],
   "source": []
  },
  {
   "cell_type": "code",
   "execution_count": null,
   "id": "7d7bbb67",
   "metadata": {},
   "outputs": [],
   "source": []
  },
  {
   "cell_type": "code",
   "execution_count": null,
   "id": "dcf11848",
   "metadata": {},
   "outputs": [],
   "source": []
  },
  {
   "cell_type": "code",
   "execution_count": null,
   "id": "f0bd0d02",
   "metadata": {},
   "outputs": [],
   "source": []
  },
  {
   "cell_type": "code",
   "execution_count": null,
   "id": "3fdd31bc",
   "metadata": {},
   "outputs": [],
   "source": []
  },
  {
   "cell_type": "code",
   "execution_count": null,
   "id": "6f39e30e",
   "metadata": {},
   "outputs": [],
   "source": []
  },
  {
   "cell_type": "code",
   "execution_count": null,
   "id": "4453b457",
   "metadata": {},
   "outputs": [],
   "source": []
  },
  {
   "cell_type": "code",
   "execution_count": null,
   "id": "8762694b",
   "metadata": {},
   "outputs": [],
   "source": []
  },
  {
   "cell_type": "code",
   "execution_count": null,
   "id": "5d26967f",
   "metadata": {},
   "outputs": [],
   "source": []
  },
  {
   "cell_type": "code",
   "execution_count": null,
   "id": "c8f5bad0",
   "metadata": {},
   "outputs": [],
   "source": []
  },
  {
   "cell_type": "code",
   "execution_count": null,
   "id": "b2f0bef8",
   "metadata": {},
   "outputs": [],
   "source": []
  },
  {
   "cell_type": "code",
   "execution_count": null,
   "id": "442109b9",
   "metadata": {},
   "outputs": [],
   "source": []
  },
  {
   "cell_type": "code",
   "execution_count": null,
   "id": "8f7f17d5",
   "metadata": {},
   "outputs": [],
   "source": []
  },
  {
   "cell_type": "code",
   "execution_count": null,
   "id": "23958c9c",
   "metadata": {},
   "outputs": [],
   "source": []
  },
  {
   "cell_type": "code",
   "execution_count": null,
   "id": "47067c0a",
   "metadata": {},
   "outputs": [],
   "source": []
  },
  {
   "cell_type": "code",
   "execution_count": null,
   "id": "b0d420fc",
   "metadata": {},
   "outputs": [],
   "source": []
  },
  {
   "cell_type": "code",
   "execution_count": null,
   "id": "f98bd91f",
   "metadata": {},
   "outputs": [],
   "source": []
  },
  {
   "cell_type": "code",
   "execution_count": null,
   "id": "a859b816",
   "metadata": {},
   "outputs": [],
   "source": []
  },
  {
   "cell_type": "code",
   "execution_count": null,
   "id": "daf3bbbb",
   "metadata": {},
   "outputs": [],
   "source": []
  }
 ],
 "metadata": {
  "kernelspec": {
   "display_name": "Python 3",
   "language": "python",
   "name": "python3"
  },
  "language_info": {
   "codemirror_mode": {
    "name": "ipython",
    "version": 3
   },
   "file_extension": ".py",
   "mimetype": "text/x-python",
   "name": "python",
   "nbconvert_exporter": "python",
   "pygments_lexer": "ipython3",
   "version": "3.8.8"
  }
 },
 "nbformat": 4,
 "nbformat_minor": 5
}
